{
  "cells": [
    {
      "cell_type": "code",
      "execution_count": 1,
      "metadata": {
        "id": "Hi1Z6pL3pdmK"
      },
      "outputs": [],
      "source": [
        "import numpy as np\n",
        "import matplotlib.pyplot as plt"
      ]
    },
    {
      "cell_type": "markdown",
      "metadata": {
        "id": "p4AOG-6hwqdA"
      },
      "source": [
        "# Cart Pole\n",
        "\n",
        "The cart pole problem is a classic reinforcement task which involves balancing a pole on a cart by pushing the cart either to the right or left at each time step.\n",
        "\n",
        "**Dynamics** The observed state for the problem has four components:\n",
        "\n",
        "1. The position of the cart (ranges from -4.8 to 4.8). The simulation will terminate, however, if the cart exceeds -2.4 or 2.4.\n",
        "\n",
        "2. The velocity of the cart, a real value between -$\\infty$ and $\\infty$.\n",
        "\n",
        "3. The angle of the pole on the cart, measured in radians (ranges between -.418 and .418, or $\\pm 24^\\circ$). The simulation will terminate if the angle exceeds $\\pm 12^\\circ$\n",
        "\n",
        "4. The angular velocity of the pole, a real value between -$\\infty$ and $\\infty$.\n",
        "\n",
        "**Actions** At each time step, the user has one of two actions available: Push the cart to the left (0) or push the cart to the right (1).\n",
        "\n",
        "**Objective** The goal of the task is to keep the pole upright for as long as possible, and a reward of $+1$ is given for each time step the pole is upright. The simulation will auto-terminate after 500 iterations, so the maximum reward is 500.\n",
        "\n",
        "## Demo\n",
        "A demo of Cart Pole with random actions taken is as follows:"
      ]
    },
    {
      "cell_type": "code",
      "execution_count": 3,
      "metadata": {
        "colab": {
          "base_uri": "https://localhost:8080/"
        },
        "id": "pUg9lUv7xGRq",
        "outputId": "bd597d2b-dc42-46f6-e435-67f9c82e4f58"
      },
      "outputs": [
        {
          "output_type": "stream",
          "name": "stdout",
          "text": [
            "Requirement already satisfied: gymnasium[classic_control] in /usr/local/lib/python3.12/dist-packages (1.2.0)\n",
            "Requirement already satisfied: numpy>=1.21.0 in /usr/local/lib/python3.12/dist-packages (from gymnasium[classic_control]) (2.0.2)\n",
            "Requirement already satisfied: cloudpickle>=1.2.0 in /usr/local/lib/python3.12/dist-packages (from gymnasium[classic_control]) (3.1.1)\n",
            "Requirement already satisfied: typing-extensions>=4.3.0 in /usr/local/lib/python3.12/dist-packages (from gymnasium[classic_control]) (4.14.1)\n",
            "Requirement already satisfied: farama-notifications>=0.0.1 in /usr/local/lib/python3.12/dist-packages (from gymnasium[classic_control]) (0.0.4)\n",
            "Requirement already satisfied: pygame>=2.1.3 in /usr/local/lib/python3.12/dist-packages (from gymnasium[classic_control]) (2.6.1)\n",
            "Collecting pyvirtualdisplay\n",
            "  Downloading PyVirtualDisplay-3.0-py3-none-any.whl.metadata (943 bytes)\n",
            "Downloading PyVirtualDisplay-3.0-py3-none-any.whl (15 kB)\n",
            "Installing collected packages: pyvirtualdisplay\n",
            "Successfully installed pyvirtualdisplay-3.0\n",
            "Reading package lists... Done\n",
            "Building dependency tree... Done\n",
            "Reading state information... Done\n",
            "xvfb is already the newest version (2:21.1.4-2ubuntu1.7~22.04.15).\n",
            "0 upgraded, 0 newly installed, 0 to remove and 35 not upgraded.\n"
          ]
        }
      ],
      "source": [
        "## Install the package and additional stuff needed to record\n",
        "!pip install gymnasium[classic_control]\n",
        "!pip install pyvirtualdisplay\n",
        "!apt-get install -y xvfb"
      ]
    },
    {
      "cell_type": "code",
      "execution_count": 4,
      "metadata": {
        "colab": {
          "base_uri": "https://localhost:8080/"
        },
        "id": "yjVJXUkZxNM5",
        "outputId": "954e44b8-6af7-46bb-8bfb-5d60bbf3ff16"
      },
      "outputs": [
        {
          "output_type": "execute_result",
          "data": {
            "text/plain": [
              "<pyvirtualdisplay.display.Display at 0x7aced931b650>"
            ]
          },
          "metadata": {},
          "execution_count": 4
        }
      ],
      "source": [
        "import gymnasium as gym\n",
        "import os\n",
        "\n",
        "## To play video\n",
        "import pyvirtualdisplay\n",
        "from IPython import display\n",
        "pyvirtualdisplay.Display(visible=0, size=(1400, 900)).start()"
      ]
    },
    {
      "cell_type": "code",
      "execution_count": 5,
      "metadata": {
        "id": "0Y1_iISZwofq",
        "colab": {
          "base_uri": "https://localhost:8080/"
        },
        "outputId": "761e8363-12be-4a0f-b316-78e9560cd584"
      },
      "outputs": [
        {
          "output_type": "stream",
          "name": "stderr",
          "text": [
            "/usr/local/lib/python3.12/dist-packages/moviepy/config_defaults.py:47: SyntaxWarning: invalid escape sequence '\\P'\n",
            "  IMAGEMAGICK_BINARY = r\"C:\\Program Files\\ImageMagick-6.8.8-Q16\\magick.exe\"\n"
          ]
        }
      ],
      "source": [
        "from gymnasium.wrappers import RecordVideo\n",
        "\n",
        "env = gym.make(\"CartPole-v1\", render_mode='rgb_array')\n",
        "env = RecordVideo(env, video_folder=\"videos\") # To record\n",
        "\n",
        "observation, info = env.reset()\n",
        "\n",
        "for _ in range(1000):\n",
        "    action = env.action_space.sample()  # Random actions for demonstration\n",
        "    observation, reward, terminated, truncated, info = env.step(action)\n",
        "\n",
        "    if terminated or truncated:\n",
        "        break\n",
        "\n",
        "env.close()"
      ]
    },
    {
      "cell_type": "code",
      "execution_count": 6,
      "metadata": {
        "colab": {
          "base_uri": "https://localhost:8080/",
          "height": 288
        },
        "id": "DClf7479wz6i",
        "outputId": "3f65ba94-af33-4abb-b078-aea9ca4d5c0e"
      },
      "outputs": [
        {
          "output_type": "execute_result",
          "data": {
            "text/plain": [
              "<IPython.core.display.HTML object>"
            ],
            "text/html": [
              "<video width=\"400\" controls>\n",
              "                <source src=\"data:video/mp4;base64,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\" type=\"video/mp4\">\n",
              "\n",
              "</video>\n"
            ]
          },
          "metadata": {},
          "execution_count": 6
        }
      ],
      "source": [
        "import base64\n",
        "from IPython.display import HTML\n",
        "\n",
        "def show_video(video_path):\n",
        "    video = open(video_path, \"rb\").read()\n",
        "    encoded_video = base64.b64encode(video).decode()\n",
        "    return HTML(data='''<video width=\"400\" controls>\n",
        "                <source src=\"data:video/mp4;base64,{0}\" type=\"video/mp4\">\n",
        "\n",
        "</video>\n",
        "'''.format(encoded_video))\n",
        "\n",
        "video_path = f\"videos/rl-video-episode-0.mp4\"\n",
        "show_video(video_path)"
      ]
    },
    {
      "cell_type": "markdown",
      "metadata": {
        "id": "ENeqRyEoxkcA"
      },
      "source": [
        "## Tabular Q-Learning\n",
        "\n",
        "As a first pass, we can try a standard $Q$-learning approach by discretizing the state space to get a $Q$ table $Q(s, a)$, and update this table in the same way as the previous example by interacting with the simulated environment to observe rewards as a function of states and actions."
      ]
    },
    {
      "cell_type": "code",
      "execution_count": 9,
      "metadata": {
        "colab": {
          "base_uri": "https://localhost:8080/"
        },
        "id": "zCLMECBWxa6X",
        "outputId": "531f806d-588e-49fa-c57b-4e2d7ec5873b"
      },
      "outputs": [
        {
          "output_type": "execute_result",
          "data": {
            "text/plain": [
              "(50, 50, 50, 50, 2)"
            ]
          },
          "metadata": {},
          "execution_count": 9
        }
      ],
      "source": [
        "## Design Q Table\n",
        "disc_dimensions = np.array([50,50,50,50])\n",
        "q_table = np.zeros(shape=([50,50,50,50] + [env.action_space.n]))\n",
        "q_table.shape"
      ]
    },
    {
      "cell_type": "code",
      "execution_count": 10,
      "metadata": {
        "id": "XxPDvqdUySWW"
      },
      "outputs": [],
      "source": [
        "def get_discrete_state(state):\n",
        "    discrete_state = state/np.array([0.1, 0.25, 0.01, 0.25])+ np.array([25,25,25,25])\n",
        "    discrete_state = np.minimum(np.maximum(discrete_state, 0), disc_dimensions - 1)\n",
        "    return tuple(discrete_state.astype(np.int32))"
      ]
    },
    {
      "cell_type": "code",
      "execution_count": 11,
      "metadata": {
        "colab": {
          "base_uri": "https://localhost:8080/"
        },
        "id": "AjUnZfVNyU72",
        "outputId": "49c63150-b4c4-431a-e716-0484bda2c8d2"
      },
      "outputs": [
        {
          "output_type": "execute_result",
          "data": {
            "text/plain": [
              "(array([ 0.19698527,  1.3898189 , -0.250507  , -2.2457354 ], dtype=float32),\n",
              " (np.int32(26), np.int32(30), np.int32(0), np.int32(16)))"
            ]
          },
          "metadata": {},
          "execution_count": 11
        }
      ],
      "source": [
        "observation, get_discrete_state(observation)"
      ]
    },
    {
      "cell_type": "code",
      "execution_count": 12,
      "metadata": {
        "colab": {
          "base_uri": "https://localhost:8080/"
        },
        "id": "ggL-WFOeyZzE",
        "outputId": "17ed79bb-79ef-4ab3-c3a2-203070d3ff3a"
      },
      "outputs": [
        {
          "output_type": "stream",
          "name": "stdout",
          "text": [
            "Episode: 0\n",
            "Mean Reward: 0.013\n",
            "Episode: 1000\n",
            "Mean Reward: 22.501\n",
            "Episode: 2000\n",
            "Mean Reward: 23.05\n",
            "Episode: 3000\n",
            "Mean Reward: 25.832\n",
            "Episode: 4000\n",
            "Mean Reward: 30.506\n",
            "Episode: 5000\n",
            "Mean Reward: 35.415\n",
            "Episode: 6000\n",
            "Mean Reward: 41.766\n",
            "Episode: 7000\n",
            "Mean Reward: 49.925\n",
            "Episode: 8000\n",
            "Mean Reward: 54.54\n",
            "Episode: 9000\n",
            "Mean Reward: 59.964\n",
            "Episode: 10000\n",
            "Mean Reward: 67.219\n"
          ]
        }
      ],
      "source": [
        "\n",
        "lr = 0.1\n",
        "\n",
        "gamma = 0.95\n",
        "episodes = 10000\n",
        "total = 0\n",
        "total_reward = 0\n",
        "prior_reward = 0\n",
        "\n",
        "epsilon = 1\n",
        "epsilon_decay_value = 0.9999\n",
        "\n",
        "\n",
        "env = gym.make(\"CartPole-v1\")\n",
        "for episode in range(episodes + 1): #go through the episodes\n",
        "    discrete_state = get_discrete_state(env.reset()[0]) #get the discrete start for the restarted environment\n",
        "    done = False\n",
        "    episode_reward = 0 #reward starts as 0 for each episode\n",
        "\n",
        "    while not done:\n",
        "\n",
        "        if np.random.random() > epsilon:\n",
        "\n",
        "            action = np.argmax(q_table[discrete_state]) #take cordinated action\n",
        "        else:\n",
        "\n",
        "            action = np.random.randint(0, env.action_space.n) #do a random ation\n",
        "\n",
        "        new_state, reward, done, _, _ = env.step(action) #step action to get new states, reward, and the \"done\" status.\n",
        "\n",
        "        episode_reward += reward #add the reward\n",
        "\n",
        "        new_discrete_state = get_discrete_state(new_state)\n",
        "\n",
        "        if not done: #update q-table\n",
        "            q_table[discrete_state + (action,)] = (1 - lr) * q_table[discrete_state + (action,)] + \\\n",
        "                                                     lr * (reward + gamma * np.max(q_table[new_discrete_state]))\n",
        "\n",
        "        discrete_state = new_discrete_state\n",
        "\n",
        "    epsilon = epsilon * epsilon_decay_value\n",
        "\n",
        "\n",
        "    total_reward += episode_reward #episode total reward\n",
        "    prior_reward = episode_reward\n",
        "\n",
        "    if episode % 1000 == 0: #every 1000 episodes print the average time and the average reward\n",
        "        print(\"Episode: \" + str(episode))\n",
        "        mean_reward = total_reward / 1000\n",
        "        print(\"Mean Reward: \" + str(mean_reward))\n",
        "        total_reward = 0\n",
        "\n",
        "env.close()"
      ]
    },
    {
      "cell_type": "code",
      "execution_count": 13,
      "metadata": {
        "id": "JaRnw0rpzZnl"
      },
      "outputs": [],
      "source": [
        "env = gym.make(\"CartPole-v1\", render_mode='rgb_array')\n",
        "env = RecordVideo(env, video_folder=\"qtable_videos\") # To record\n",
        "\n",
        "state, info = env.reset()\n",
        "\n",
        "for j in range(1000):\n",
        "    discrete_state = get_discrete_state(state)\n",
        "    action = np.argmax(q_table[discrete_state])\n",
        "    state, reward, terminated, truncated, info = env.step(action)\n",
        "\n",
        "    if terminated or truncated:\n",
        "        break\n",
        "\n",
        "env.close()"
      ]
    },
    {
      "cell_type": "code",
      "execution_count": 14,
      "metadata": {
        "id": "HzegzlWG0BG0",
        "colab": {
          "base_uri": "https://localhost:8080/",
          "height": 288
        },
        "outputId": "25dd5fbc-9fe9-478f-8bc9-ecc5567802db"
      },
      "outputs": [
        {
          "output_type": "execute_result",
          "data": {
            "text/plain": [
              "<IPython.core.display.HTML object>"
            ],
            "text/html": [
              "<video width=\"400\" controls>\n",
              "                <source src=\"data:video/mp4;base64,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\" type=\"video/mp4\">\n",
              "\n",
              "</video>\n"
            ]
          },
          "metadata": {},
          "execution_count": 14
        }
      ],
      "source": [
        "video_path = f\"qtable_videos/rl-video-episode-0.mp4\"\n",
        "show_video(video_path)"
      ]
    },
    {
      "cell_type": "code",
      "execution_count": null,
      "metadata": {
        "id": "woMiNNmf0FfK"
      },
      "outputs": [],
      "source": [
        "j"
      ]
    },
    {
      "cell_type": "code",
      "execution_count": null,
      "metadata": {
        "id": "9nuDSf3y0Jlv"
      },
      "outputs": [],
      "source": []
    }
  ],
  "metadata": {
    "colab": {
      "provenance": []
    },
    "kernelspec": {
      "display_name": "Python [conda env:mitx] *",
      "language": "python",
      "name": "conda-env-mitx-py"
    },
    "language_info": {
      "codemirror_mode": {
        "name": "ipython",
        "version": 3
      },
      "file_extension": ".py",
      "mimetype": "text/x-python",
      "name": "python",
      "nbconvert_exporter": "python",
      "pygments_lexer": "ipython3",
      "version": "3.12.8"
    }
  },
  "nbformat": 4,
  "nbformat_minor": 0
}